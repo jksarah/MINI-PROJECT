{
  "nbformat": 4,
  "nbformat_minor": 0,
  "metadata": {
    "colab": {
      "name": "20191ISE0152_NASSCOM.ipynb",
      "provenance": [],
      "collapsed_sections": []
    },
    "kernelspec": {
      "name": "python3",
      "display_name": "Python 3"
    },
    "language_info": {
      "name": "python"
    }
  },
  "cells": [
    {
      "cell_type": "markdown",
      "metadata": {
        "id": "QOCUqXB7I6rg"
      },
      "source": [
        "NASSCOM(MINI PROJECT) ASSIGNMENT\n",
        "\n",
        "SARAH J K\n",
        "\n",
        "20191ISE0152\n",
        "\n",
        "5ISE3"
      ]
    },
    {
      "cell_type": "markdown",
      "metadata": {
        "id": "rZTpbXduJnSW"
      },
      "source": [
        "**MACHINE** **LEARNING**"
      ]
    },
    {
      "cell_type": "markdown",
      "metadata": {
        "id": "BdWv0hZxJvzl"
      },
      "source": [
        "A METHOD OF DATA ANALYSIS THAT AUTOMATES ANALYTICAL MODEL BUILDING.IT'S A TYPE OF ARTIFICIAL INTELLIGENCE THAT ALLOWS SOFTWARE APPLICATIONS TO BECOME MORE ACCURATE AT PREDICTING OUTCOMES WITHOUT BEING EXPLICITLY PROGRAMMED TO DO SO."
      ]
    },
    {
      "cell_type": "markdown",
      "metadata": {
        "id": "TYaiAUL1M5Yi"
      },
      "source": [
        "**SIMPLE** **LINEAR** **REGRESSION**"
      ]
    },
    {
      "cell_type": "markdown",
      "metadata": {
        "id": "JqfelywXNDhc"
      },
      "source": [
        "A REGRESSION MODEL THAT ESTIMATES THE RELATIONSHIP BETWEEN ONE INDEPENDENT VARIABLE AND ONE DEPENDENT VARIABLE USING A STRAIGHT LINE.\n",
        "\n",
        "[y =mx+c]\n",
        "\n",
        "where both the variables should be quantitative"
      ]
    },
    {
      "cell_type": "markdown",
      "metadata": {
        "id": "u5rf3rG7NG_t"
      },
      "source": [
        "**DATA** **SET**"
      ]
    },
    {
      "cell_type": "markdown",
      "metadata": {
        "id": "hr5A_CHvNLIN"
      },
      "source": [
        "IT'S A COLLECTION OF DATA,NUMBERS,OR VALUES THAT RELATE TO A PARTICULAR SUBJECT.\n",
        "\n",
        "IT CAN HOLD INFORMATION SUCH AS MEDICAL RECORDS,INSURANCE RECORDS,TO BE USED BY A PROGRAM RUNNING ON THE SYSTEM. DATA SETS ARE ALSO USED TO STORE INFORMATION NEEDED BY APPLICATIONS"
      ]
    },
    {
      "cell_type": "markdown",
      "metadata": {
        "id": "2dM1i_tMNONX"
      },
      "source": [
        "**DATA** **VISUALISATION**"
      ]
    },
    {
      "cell_type": "markdown",
      "metadata": {
        "id": "Z-Tiwqa6NStW"
      },
      "source": [
        "THE PROCESS OF TRANSLATING LARGE DATA SETS AND METRICS INTO CHARTS,GRAPH,AND OTHER VISUALS WHICH IS HELPFUL TO CONDUCT ANALYSES SUCH AS PREDICTIVE ANALYSIS WHICH CAN SERVE AS HELPFUL VISUALISATION TO PRESENT"
      ]
    },
    {
      "cell_type": "markdown",
      "metadata": {
        "id": "_5BM3v1dNVHM"
      },
      "source": [
        "**SUPERVISED LEARNING**"
      ]
    },
    {
      "cell_type": "markdown",
      "metadata": {
        "id": "dwE7MO3ONg0l"
      },
      "source": [
        "THE MACHINE LEARNING TASK OF LEARNING A FUNCTION THAT MAPS AN INPUT TO AN OUTPUT BASED ON EXAMPLE INPUT-OUTPUT PAIRS. THE MODEL IS TRAINED USING 'LABELED DATA'. DATASETS ARE SAID TO CONTAIN LABELS THAT CONTAIN BOTH INPUT AND OUTPUT PARAMETERS. TO SIMPLIFY-' DATA IS ALREAY TAGGED WITH THE CORRECT ANSWER'."
      ]
    },
    {
      "cell_type": "markdown",
      "metadata": {
        "id": "ZTMHPIz6NlB9"
      },
      "source": [
        "**MODELS**"
      ]
    },
    {
      "cell_type": "markdown",
      "metadata": {
        "id": "-Hqotw1aNosk"
      },
      "source": [
        "THOSE ARE OUTPUT BY ALGORITHMS AND ARE COMPRISED OF MODEL DATA AND A PREDICTION ALGORITHM."
      ]
    },
    {
      "cell_type": "markdown",
      "metadata": {
        "id": "0kMe_dpyNtf2"
      },
      "source": [
        "**TRAINING** **MODEL**"
      ]
    },
    {
      "cell_type": "markdown",
      "metadata": {
        "id": "KFw1j9CON0lV"
      },
      "source": [
        "IN SUPERVISED LEARNING, AN ML ALGORITHM BUILDS A MODEL BY EXAMINING MANY EXAMPLES AND ATTEMPTING TO FIND A MODEL THAT MINIMIZES LOSS AND IMPROVES PREDICTION ACCURACY."
      ]
    },
    {
      "cell_type": "markdown",
      "metadata": {
        "id": "5ZSxjYxXJwv0"
      },
      "source": [
        "**IMPORTING** **DATA** **SET**"
      ]
    },
    {
      "cell_type": "code",
      "metadata": {
        "id": "AjQUf2fRJ-be"
      },
      "source": [
        "import pandas as pd\n",
        "import numpy as np\n",
        "import matplotlib.pyplot as plt\n",
        "from sklearn.model_selection import train_test_split\n",
        "from sklearn.linear_model import LinearRegression\n",
        "from sklearn.metrics import r2_score,mean_squared_error\n",
        "%matplotlib inline"
      ],
      "execution_count": 1,
      "outputs": []
    },
    {
      "cell_type": "code",
      "metadata": {
        "colab": {
          "base_uri": "https://localhost:8080/",
          "height": 394
        },
        "id": "cwH8Ae_1KKRN",
        "outputId": "1bd441b8-19c7-4340-ed32-0b05c246ab5e"
      },
      "source": [
        "df = pd.read_csv('/data.csv') # Importing the dataset\n",
        "df.sample(5) #previewing dataset "
      ],
      "execution_count": 2,
      "outputs": [
        {
          "output_type": "execute_result",
          "data": {
            "text/html": [
              "<div>\n",
              "<style scoped>\n",
              "    .dataframe tbody tr th:only-of-type {\n",
              "        vertical-align: middle;\n",
              "    }\n",
              "\n",
              "    .dataframe tbody tr th {\n",
              "        vertical-align: top;\n",
              "    }\n",
              "\n",
              "    .dataframe thead th {\n",
              "        text-align: right;\n",
              "    }\n",
              "</style>\n",
              "<table border=\"1\" class=\"dataframe\">\n",
              "  <thead>\n",
              "    <tr style=\"text-align: right;\">\n",
              "      <th></th>\n",
              "      <th>Make</th>\n",
              "      <th>Model</th>\n",
              "      <th>Year</th>\n",
              "      <th>Engine Fuel Type</th>\n",
              "      <th>Engine HP</th>\n",
              "      <th>Engine Cylinders</th>\n",
              "      <th>Transmission Type</th>\n",
              "      <th>Driven_Wheels</th>\n",
              "      <th>Number of Doors</th>\n",
              "      <th>Market Category</th>\n",
              "      <th>Vehicle Size</th>\n",
              "      <th>Vehicle Style</th>\n",
              "      <th>highway MPG</th>\n",
              "      <th>city mpg</th>\n",
              "      <th>Popularity</th>\n",
              "      <th>MSRP</th>\n",
              "    </tr>\n",
              "  </thead>\n",
              "  <tbody>\n",
              "    <tr>\n",
              "      <th>4365</th>\n",
              "      <td>Ford</td>\n",
              "      <td>Explorer Sport Trac</td>\n",
              "      <td>2009</td>\n",
              "      <td>regular unleaded</td>\n",
              "      <td>210.0</td>\n",
              "      <td>6.0</td>\n",
              "      <td>AUTOMATIC</td>\n",
              "      <td>four wheel drive</td>\n",
              "      <td>4.0</td>\n",
              "      <td>Crossover</td>\n",
              "      <td>Compact</td>\n",
              "      <td>Crew Cab Pickup</td>\n",
              "      <td>19</td>\n",
              "      <td>13</td>\n",
              "      <td>5657</td>\n",
              "      <td>32360</td>\n",
              "    </tr>\n",
              "    <tr>\n",
              "      <th>8351</th>\n",
              "      <td>Ford</td>\n",
              "      <td>Ranger</td>\n",
              "      <td>2010</td>\n",
              "      <td>regular unleaded</td>\n",
              "      <td>143.0</td>\n",
              "      <td>4.0</td>\n",
              "      <td>MANUAL</td>\n",
              "      <td>rear wheel drive</td>\n",
              "      <td>2.0</td>\n",
              "      <td>NaN</td>\n",
              "      <td>Compact</td>\n",
              "      <td>Extended Cab Pickup</td>\n",
              "      <td>27</td>\n",
              "      <td>22</td>\n",
              "      <td>5657</td>\n",
              "      <td>19515</td>\n",
              "    </tr>\n",
              "    <tr>\n",
              "      <th>6075</th>\n",
              "      <td>Volkswagen</td>\n",
              "      <td>Jetta SportWagen</td>\n",
              "      <td>2013</td>\n",
              "      <td>regular unleaded</td>\n",
              "      <td>170.0</td>\n",
              "      <td>5.0</td>\n",
              "      <td>AUTOMATIC</td>\n",
              "      <td>front wheel drive</td>\n",
              "      <td>4.0</td>\n",
              "      <td>NaN</td>\n",
              "      <td>Compact</td>\n",
              "      <td>Wagon</td>\n",
              "      <td>31</td>\n",
              "      <td>24</td>\n",
              "      <td>873</td>\n",
              "      <td>26195</td>\n",
              "    </tr>\n",
              "    <tr>\n",
              "      <th>9639</th>\n",
              "      <td>Chevrolet</td>\n",
              "      <td>Silverado 1500</td>\n",
              "      <td>2017</td>\n",
              "      <td>flex-fuel (unleaded/E85)</td>\n",
              "      <td>285.0</td>\n",
              "      <td>6.0</td>\n",
              "      <td>AUTOMATIC</td>\n",
              "      <td>four wheel drive</td>\n",
              "      <td>4.0</td>\n",
              "      <td>Flex Fuel</td>\n",
              "      <td>Large</td>\n",
              "      <td>Extended Cab Pickup</td>\n",
              "      <td>22</td>\n",
              "      <td>17</td>\n",
              "      <td>1385</td>\n",
              "      <td>37425</td>\n",
              "    </tr>\n",
              "    <tr>\n",
              "      <th>9740</th>\n",
              "      <td>Hyundai</td>\n",
              "      <td>Sonata</td>\n",
              "      <td>2016</td>\n",
              "      <td>regular unleaded</td>\n",
              "      <td>185.0</td>\n",
              "      <td>4.0</td>\n",
              "      <td>AUTOMATIC</td>\n",
              "      <td>front wheel drive</td>\n",
              "      <td>4.0</td>\n",
              "      <td>NaN</td>\n",
              "      <td>Midsize</td>\n",
              "      <td>Sedan</td>\n",
              "      <td>38</td>\n",
              "      <td>25</td>\n",
              "      <td>1439</td>\n",
              "      <td>21750</td>\n",
              "    </tr>\n",
              "  </tbody>\n",
              "</table>\n",
              "</div>"
            ],
            "text/plain": [
              "            Make                Model  Year  ... city mpg  Popularity   MSRP\n",
              "4365        Ford  Explorer Sport Trac  2009  ...       13        5657  32360\n",
              "8351        Ford               Ranger  2010  ...       22        5657  19515\n",
              "6075  Volkswagen     Jetta SportWagen  2013  ...       24         873  26195\n",
              "9639   Chevrolet       Silverado 1500  2017  ...       17        1385  37425\n",
              "9740     Hyundai               Sonata  2016  ...       25        1439  21750\n",
              "\n",
              "[5 rows x 16 columns]"
            ]
          },
          "metadata": {},
          "execution_count": 2
        }
      ]
    },
    {
      "cell_type": "markdown",
      "metadata": {
        "id": "m6lJbil4OGO-"
      },
      "source": [
        "Then we import the car dataset. And print 5 sample dataset values. At first, we imported our necessary libraries."
      ]
    },
    {
      "cell_type": "code",
      "metadata": {
        "colab": {
          "base_uri": "https://localhost:8080/"
        },
        "id": "bOrZc9ysOIuH",
        "outputId": "db2a72f4-7fcd-49d1-c532-54f71ca3be3d"
      },
      "source": [
        "print(df.shape) # view the dataset shape\n",
        "\n",
        "print(df['Make'].value_counts()) # viewing Car companies with their cars number"
      ],
      "execution_count": 3,
      "outputs": [
        {
          "output_type": "stream",
          "name": "stdout",
          "text": [
            "(11914, 16)\n",
            "Chevrolet        1123\n",
            "Ford              881\n",
            "Volkswagen        809\n",
            "Toyota            746\n",
            "Dodge             626\n",
            "Nissan            558\n",
            "GMC               515\n",
            "Honda             449\n",
            "Mazda             423\n",
            "Cadillac          397\n",
            "Mercedes-Benz     353\n",
            "Suzuki            351\n",
            "BMW               334\n",
            "Infiniti          330\n",
            "Audi              328\n",
            "Hyundai           303\n",
            "Volvo             281\n",
            "Subaru            256\n",
            "Acura             252\n",
            "Kia               231\n",
            "Mitsubishi        213\n",
            "Lexus             202\n",
            "Buick             196\n",
            "Chrysler          187\n",
            "Pontiac           186\n",
            "Lincoln           164\n",
            "Oldsmobile        150\n",
            "Land Rover        143\n",
            "Porsche           136\n",
            "Saab              111\n",
            "Aston Martin       93\n",
            "Plymouth           82\n",
            "Bentley            74\n",
            "Ferrari            69\n",
            "FIAT               62\n",
            "Scion              60\n",
            "Maserati           58\n",
            "Lamborghini        52\n",
            "Rolls-Royce        31\n",
            "Lotus              29\n",
            "Tesla              18\n",
            "HUMMER             17\n",
            "Maybach            16\n",
            "Alfa Romeo          5\n",
            "McLaren             5\n",
            "Bugatti             3\n",
            "Genesis             3\n",
            "Spyker              3\n",
            "Name: Make, dtype: int64\n"
          ]
        }
      ]
    },
    {
      "cell_type": "code",
      "metadata": {
        "colab": {
          "base_uri": "https://localhost:8080/",
          "height": 297
        },
        "id": "WnXfTp4lOPpO",
        "outputId": "6c021d07-fc1f-4ad5-a33f-07a03f9fa01e"
      },
      "source": [
        "df.describe( )"
      ],
      "execution_count": 4,
      "outputs": [
        {
          "output_type": "execute_result",
          "data": {
            "text/html": [
              "<div>\n",
              "<style scoped>\n",
              "    .dataframe tbody tr th:only-of-type {\n",
              "        vertical-align: middle;\n",
              "    }\n",
              "\n",
              "    .dataframe tbody tr th {\n",
              "        vertical-align: top;\n",
              "    }\n",
              "\n",
              "    .dataframe thead th {\n",
              "        text-align: right;\n",
              "    }\n",
              "</style>\n",
              "<table border=\"1\" class=\"dataframe\">\n",
              "  <thead>\n",
              "    <tr style=\"text-align: right;\">\n",
              "      <th></th>\n",
              "      <th>Year</th>\n",
              "      <th>Engine HP</th>\n",
              "      <th>Engine Cylinders</th>\n",
              "      <th>Number of Doors</th>\n",
              "      <th>highway MPG</th>\n",
              "      <th>city mpg</th>\n",
              "      <th>Popularity</th>\n",
              "      <th>MSRP</th>\n",
              "    </tr>\n",
              "  </thead>\n",
              "  <tbody>\n",
              "    <tr>\n",
              "      <th>count</th>\n",
              "      <td>11914.000000</td>\n",
              "      <td>11845.00000</td>\n",
              "      <td>11884.000000</td>\n",
              "      <td>11908.000000</td>\n",
              "      <td>11914.000000</td>\n",
              "      <td>11914.000000</td>\n",
              "      <td>11914.000000</td>\n",
              "      <td>1.191400e+04</td>\n",
              "    </tr>\n",
              "    <tr>\n",
              "      <th>mean</th>\n",
              "      <td>2010.384338</td>\n",
              "      <td>249.38607</td>\n",
              "      <td>5.628829</td>\n",
              "      <td>3.436093</td>\n",
              "      <td>26.637485</td>\n",
              "      <td>19.733255</td>\n",
              "      <td>1554.911197</td>\n",
              "      <td>4.059474e+04</td>\n",
              "    </tr>\n",
              "    <tr>\n",
              "      <th>std</th>\n",
              "      <td>7.579740</td>\n",
              "      <td>109.19187</td>\n",
              "      <td>1.780559</td>\n",
              "      <td>0.881315</td>\n",
              "      <td>8.863001</td>\n",
              "      <td>8.987798</td>\n",
              "      <td>1441.855347</td>\n",
              "      <td>6.010910e+04</td>\n",
              "    </tr>\n",
              "    <tr>\n",
              "      <th>min</th>\n",
              "      <td>1990.000000</td>\n",
              "      <td>55.00000</td>\n",
              "      <td>0.000000</td>\n",
              "      <td>2.000000</td>\n",
              "      <td>12.000000</td>\n",
              "      <td>7.000000</td>\n",
              "      <td>2.000000</td>\n",
              "      <td>2.000000e+03</td>\n",
              "    </tr>\n",
              "    <tr>\n",
              "      <th>25%</th>\n",
              "      <td>2007.000000</td>\n",
              "      <td>170.00000</td>\n",
              "      <td>4.000000</td>\n",
              "      <td>2.000000</td>\n",
              "      <td>22.000000</td>\n",
              "      <td>16.000000</td>\n",
              "      <td>549.000000</td>\n",
              "      <td>2.100000e+04</td>\n",
              "    </tr>\n",
              "    <tr>\n",
              "      <th>50%</th>\n",
              "      <td>2015.000000</td>\n",
              "      <td>227.00000</td>\n",
              "      <td>6.000000</td>\n",
              "      <td>4.000000</td>\n",
              "      <td>26.000000</td>\n",
              "      <td>18.000000</td>\n",
              "      <td>1385.000000</td>\n",
              "      <td>2.999500e+04</td>\n",
              "    </tr>\n",
              "    <tr>\n",
              "      <th>75%</th>\n",
              "      <td>2016.000000</td>\n",
              "      <td>300.00000</td>\n",
              "      <td>6.000000</td>\n",
              "      <td>4.000000</td>\n",
              "      <td>30.000000</td>\n",
              "      <td>22.000000</td>\n",
              "      <td>2009.000000</td>\n",
              "      <td>4.223125e+04</td>\n",
              "    </tr>\n",
              "    <tr>\n",
              "      <th>max</th>\n",
              "      <td>2017.000000</td>\n",
              "      <td>1001.00000</td>\n",
              "      <td>16.000000</td>\n",
              "      <td>4.000000</td>\n",
              "      <td>354.000000</td>\n",
              "      <td>137.000000</td>\n",
              "      <td>5657.000000</td>\n",
              "      <td>2.065902e+06</td>\n",
              "    </tr>\n",
              "  </tbody>\n",
              "</table>\n",
              "</div>"
            ],
            "text/plain": [
              "               Year    Engine HP  ...    Popularity          MSRP\n",
              "count  11914.000000  11845.00000  ...  11914.000000  1.191400e+04\n",
              "mean    2010.384338    249.38607  ...   1554.911197  4.059474e+04\n",
              "std        7.579740    109.19187  ...   1441.855347  6.010910e+04\n",
              "min     1990.000000     55.00000  ...      2.000000  2.000000e+03\n",
              "25%     2007.000000    170.00000  ...    549.000000  2.100000e+04\n",
              "50%     2015.000000    227.00000  ...   1385.000000  2.999500e+04\n",
              "75%     2016.000000    300.00000  ...   2009.000000  4.223125e+04\n",
              "max     2017.000000   1001.00000  ...   5657.000000  2.065902e+06\n",
              "\n",
              "[8 rows x 8 columns]"
            ]
          },
          "metadata": {},
          "execution_count": 4
        }
      ]
    },
    {
      "cell_type": "markdown",
      "metadata": {
        "id": "ea-dqBgYObv2"
      },
      "source": [
        "**VISUALISING** **THE** **DATA**"
      ]
    },
    {
      "cell_type": "code",
      "metadata": {
        "colab": {
          "base_uri": "https://localhost:8080/",
          "height": 464
        },
        "id": "_aC_9kqwOekV",
        "outputId": "add838a4-a497-4c5a-cf79-48049ed6c66f"
      },
      "source": [
        "df.hist( )"
      ],
      "execution_count": 5,
      "outputs": [
        {
          "output_type": "execute_result",
          "data": {
            "text/plain": [
              "array([[<matplotlib.axes._subplots.AxesSubplot object at 0x7f0e5d180690>,\n",
              "        <matplotlib.axes._subplots.AxesSubplot object at 0x7f0e5d151c90>,\n",
              "        <matplotlib.axes._subplots.AxesSubplot object at 0x7f0e5d117350>],\n",
              "       [<matplotlib.axes._subplots.AxesSubplot object at 0x7f0e5d0cc9d0>,\n",
              "        <matplotlib.axes._subplots.AxesSubplot object at 0x7f0e5d078b90>,\n",
              "        <matplotlib.axes._subplots.AxesSubplot object at 0x7f0e5d043710>],\n",
              "       [<matplotlib.axes._subplots.AxesSubplot object at 0x7f0e5cff8e10>,\n",
              "        <matplotlib.axes._subplots.AxesSubplot object at 0x7f0e5cfba410>,\n",
              "        <matplotlib.axes._subplots.AxesSubplot object at 0x7f0e5cfba450>]],\n",
              "      dtype=object)"
            ]
          },
          "metadata": {},
          "execution_count": 5
        },
        {
          "output_type": "display_data",
          "data": {
            "image/png": "[encoded data removed]",
            "text/plain": [
              "<Figure size 432x288 with 9 Axes>"
            ]
          },
          "metadata": {
            "needs_background": "light"
          }
        }
      ]
    },
    {
      "cell_type": "markdown",
      "metadata": {
        "id": "7NzRfOdpOxjw"
      },
      "source": [
        "Here we print the shape of the dataset and print the different car companies with their total cars.\n"
      ]
    },
    {
      "cell_type": "code",
      "metadata": {
        "colab": {
          "base_uri": "https://localhost:8080/",
          "height": 828
        },
        "id": "SJCoXBCZO3iw",
        "outputId": "b6214b55-675c-47b2-df65-c85d9aeb42ef"
      },
      "source": [
        "new_df = df[df['Make']=='Volkswagen'] # in this new dataset we only take 'Volkswagen' Cars\n",
        "print(new_df.shape) # Viewing the new dataset shape\n",
        "print(new_df.isnull().sum()) # Is there any Null or Empty cell presents\n",
        "new_df = new_df.dropna() # Deleting the rows which have Empty cells\n",
        "print(new_df.shape) # After deletion Vewing the shape\n",
        "print(new_df.isnull().sum()) #Is there any Null or Empty cell presents\n",
        "new_df.sample(2) # Checking the random dataset sample"
      ],
      "execution_count": 6,
      "outputs": [
        {
          "output_type": "stream",
          "name": "stdout",
          "text": [
            "(809, 16)\n",
            "Make                   0\n",
            "Model                  0\n",
            "Year                   0\n",
            "Engine Fuel Type       0\n",
            "Engine HP              0\n",
            "Engine Cylinders       4\n",
            "Transmission Type      0\n",
            "Driven_Wheels          0\n",
            "Number of Doors        0\n",
            "Market Category      224\n",
            "Vehicle Size           0\n",
            "Vehicle Style          0\n",
            "highway MPG            0\n",
            "city mpg               0\n",
            "Popularity             0\n",
            "MSRP                   0\n",
            "dtype: int64\n",
            "(581, 16)\n",
            "Make                 0\n",
            "Model                0\n",
            "Year                 0\n",
            "Engine Fuel Type     0\n",
            "Engine HP            0\n",
            "Engine Cylinders     0\n",
            "Transmission Type    0\n",
            "Driven_Wheels        0\n",
            "Number of Doors      0\n",
            "Market Category      0\n",
            "Vehicle Size         0\n",
            "Vehicle Style        0\n",
            "highway MPG          0\n",
            "city mpg             0\n",
            "Popularity           0\n",
            "MSRP                 0\n",
            "dtype: int64\n"
          ]
        },
        {
          "output_type": "execute_result",
          "data": {
            "text/html": [
              "<div>\n",
              "<style scoped>\n",
              "    .dataframe tbody tr th:only-of-type {\n",
              "        vertical-align: middle;\n",
              "    }\n",
              "\n",
              "    .dataframe tbody tr th {\n",
              "        vertical-align: top;\n",
              "    }\n",
              "\n",
              "    .dataframe thead th {\n",
              "        text-align: right;\n",
              "    }\n",
              "</style>\n",
              "<table border=\"1\" class=\"dataframe\">\n",
              "  <thead>\n",
              "    <tr style=\"text-align: right;\">\n",
              "      <th></th>\n",
              "      <th>Make</th>\n",
              "      <th>Model</th>\n",
              "      <th>Year</th>\n",
              "      <th>Engine Fuel Type</th>\n",
              "      <th>Engine HP</th>\n",
              "      <th>Engine Cylinders</th>\n",
              "      <th>Transmission Type</th>\n",
              "      <th>Driven_Wheels</th>\n",
              "      <th>Number of Doors</th>\n",
              "      <th>Market Category</th>\n",
              "      <th>Vehicle Size</th>\n",
              "      <th>Vehicle Style</th>\n",
              "      <th>highway MPG</th>\n",
              "      <th>city mpg</th>\n",
              "      <th>Popularity</th>\n",
              "      <th>MSRP</th>\n",
              "    </tr>\n",
              "  </thead>\n",
              "  <tbody>\n",
              "    <tr>\n",
              "      <th>5648</th>\n",
              "      <td>Volkswagen</td>\n",
              "      <td>GTI</td>\n",
              "      <td>2013</td>\n",
              "      <td>premium unleaded (recommended)</td>\n",
              "      <td>200.0</td>\n",
              "      <td>4.0</td>\n",
              "      <td>MANUAL</td>\n",
              "      <td>front wheel drive</td>\n",
              "      <td>4.0</td>\n",
              "      <td>Hatchback,Performance</td>\n",
              "      <td>Compact</td>\n",
              "      <td>4dr Hatchback</td>\n",
              "      <td>31</td>\n",
              "      <td>21</td>\n",
              "      <td>873</td>\n",
              "      <td>27295</td>\n",
              "    </tr>\n",
              "    <tr>\n",
              "      <th>1915</th>\n",
              "      <td>Volkswagen</td>\n",
              "      <td>Beetle</td>\n",
              "      <td>2015</td>\n",
              "      <td>regular unleaded</td>\n",
              "      <td>170.0</td>\n",
              "      <td>4.0</td>\n",
              "      <td>AUTOMATIC</td>\n",
              "      <td>front wheel drive</td>\n",
              "      <td>2.0</td>\n",
              "      <td>Hatchback</td>\n",
              "      <td>Compact</td>\n",
              "      <td>2dr Hatchback</td>\n",
              "      <td>33</td>\n",
              "      <td>25</td>\n",
              "      <td>873</td>\n",
              "      <td>21795</td>\n",
              "    </tr>\n",
              "  </tbody>\n",
              "</table>\n",
              "</div>"
            ],
            "text/plain": [
              "            Make   Model  Year  ... city mpg  Popularity   MSRP\n",
              "5648  Volkswagen     GTI  2013  ...       21         873  27295\n",
              "1915  Volkswagen  Beetle  2015  ...       25         873  21795\n",
              "\n",
              "[2 rows x 16 columns]"
            ]
          },
          "metadata": {},
          "execution_count": 6
        }
      ]
    },
    {
      "cell_type": "markdown",
      "metadata": {
        "id": "qqRnd_aEPBRu"
      },
      "source": [
        "Here we select only ‘Volkswagen’ cars from the large dataset. Because different types of cars have different brand value and higher or lower price. So we take only one car company for better prediction. Then we view the shape and check if any null cell present or not. We found there are many null cells present. We delete those rows which have null cells. It is very important when you make a dataset for fitting any data model. Then we cross check if any null cells present or not. No null cell found then we print 5 sample dataset values."
      ]
    },
    {
      "cell_type": "code",
      "metadata": {
        "colab": {
          "base_uri": "https://localhost:8080/",
          "height": 204
        },
        "id": "OKijtyfzPCc2",
        "outputId": "4682145d-8e1f-43e0-dc36-f8eb3585cbb2"
      },
      "source": [
        "new_df = new_df[['Engine HP','MSRP']] # We only take the 'Engine HP' and 'MSRP' columns\n",
        "new_df.sample(5) # Checking the random dataset sample"
      ],
      "execution_count": 7,
      "outputs": [
        {
          "output_type": "execute_result",
          "data": {
            "text/html": [
              "<div>\n",
              "<style scoped>\n",
              "    .dataframe tbody tr th:only-of-type {\n",
              "        vertical-align: middle;\n",
              "    }\n",
              "\n",
              "    .dataframe tbody tr th {\n",
              "        vertical-align: top;\n",
              "    }\n",
              "\n",
              "    .dataframe thead th {\n",
              "        text-align: right;\n",
              "    }\n",
              "</style>\n",
              "<table border=\"1\" class=\"dataframe\">\n",
              "  <thead>\n",
              "    <tr style=\"text-align: right;\">\n",
              "      <th></th>\n",
              "      <th>Engine HP</th>\n",
              "      <th>MSRP</th>\n",
              "    </tr>\n",
              "  </thead>\n",
              "  <tbody>\n",
              "    <tr>\n",
              "      <th>6128</th>\n",
              "      <td>210.0</td>\n",
              "      <td>29280</td>\n",
              "    </tr>\n",
              "    <tr>\n",
              "      <th>5329</th>\n",
              "      <td>200.0</td>\n",
              "      <td>24300</td>\n",
              "    </tr>\n",
              "    <tr>\n",
              "      <th>1934</th>\n",
              "      <td>170.0</td>\n",
              "      <td>25975</td>\n",
              "    </tr>\n",
              "    <tr>\n",
              "      <th>10411</th>\n",
              "      <td>200.0</td>\n",
              "      <td>35565</td>\n",
              "    </tr>\n",
              "    <tr>\n",
              "      <th>5362</th>\n",
              "      <td>170.0</td>\n",
              "      <td>25850</td>\n",
              "    </tr>\n",
              "  </tbody>\n",
              "</table>\n",
              "</div>"
            ],
            "text/plain": [
              "       Engine HP   MSRP\n",
              "6128       210.0  29280\n",
              "5329       200.0  24300\n",
              "1934       170.0  25975\n",
              "10411      200.0  35565\n",
              "5362       170.0  25850"
            ]
          },
          "metadata": {},
          "execution_count": 7
        }
      ]
    },
    {
      "cell_type": "markdown",
      "metadata": {
        "id": "iwMD0LnbPH12"
      },
      "source": [
        "Here we select only 2 specific (‘Engine HP’ and ‘MSRP’) columns from all columns. It is very important to select only those columns which could be helpful for prediction. It depends on your common sense to select those columns. Please select those columns that wouldn’t spoil your prediction. After select only 2 columns, we view our new dataset."
      ]
    },
    {
      "cell_type": "code",
      "metadata": {
        "colab": {
          "base_uri": "https://localhost:8080/"
        },
        "id": "OCPtx1ZJPI5-",
        "outputId": "d75c87a5-ba01-4536-da9d-3a0256397041"
      },
      "source": [
        "X = np.array(new_df[['Engine HP']]) # Storing into X the 'Engine HP' as np.array\n",
        "y = np.array(new_df[['MSRP']]) # Storing into y the 'MSRP' as np.array\n",
        "print(X.shape) # Vewing the shape of X\n",
        "print(y.shape) # Vewing the shape of y"
      ],
      "execution_count": 8,
      "outputs": [
        {
          "output_type": "stream",
          "name": "stdout",
          "text": [
            "(581, 1)\n",
            "(581, 1)\n"
          ]
        }
      ]
    },
    {
      "cell_type": "markdown",
      "metadata": {
        "id": "RWaIDkKOPPWO"
      },
      "source": [
        "Here we put the ‘Engine HP’ column as a numpy array into ‘X’ variable. And ‘MSRP’ column as a numpy array into ‘y’ variable. Then check the shape of the array."
      ]
    },
    {
      "cell_type": "code",
      "metadata": {
        "colab": {
          "base_uri": "https://localhost:8080/",
          "height": 295
        },
        "id": "a6MCaE2zPQSn",
        "outputId": "e18751ec-2697-4715-eff1-f516248b8eb9"
      },
      "source": [
        "plt.scatter(X,y,color=\"red\") # Plot a graph X vs y\n",
        "plt.title('HP vs MSRP')\n",
        "plt.xlabel('HP')\n",
        "plt.ylabel('MSRP')\n",
        "plt.show()"
      ],
      "execution_count": 9,
      "outputs": [
        {
          "output_type": "display_data",
          "data": {
            "image/png": "[encoded data removed]",
            "text/plain": [
              "<Figure size 432x288 with 1 Axes>"
            ]
          },
          "metadata": {
            "needs_background": "light"
          }
        }
      ]
    },
    {
      "cell_type": "markdown",
      "metadata": {
        "id": "iqEXWH4yPhIn"
      },
      "source": [
        "Here we plot a scatter plot graph between ‘MSRP’ and ‘HP’. After viewing this graph we ensured that we can perform a linear regression for prediction."
      ]
    },
    {
      "cell_type": "code",
      "metadata": {
        "colab": {
          "base_uri": "https://localhost:8080/"
        },
        "id": "b4aggNRXPiSR",
        "outputId": "1e166139-d7da-44df-95fb-3df9737163dd"
      },
      "source": [
        "X_train,X_test,y_train,y_test = train_test_split(X,y,test_size = 0.25,random_state=15) # Spliting into train & test dataset\n",
        "regressor = LinearRegression() # Creating a regressior\n",
        "regressor.fit(X_train,y_train) # Fitting the dataset into the model"
      ],
      "execution_count": 10,
      "outputs": [
        {
          "output_type": "execute_result",
          "data": {
            "text/plain": [
              "LinearRegression(copy_X=True, fit_intercept=True, n_jobs=None, normalize=False)"
            ]
          },
          "metadata": {},
          "execution_count": 10
        }
      ]
    },
    {
      "cell_type": "markdown",
      "metadata": {
        "id": "i7eNmrbTPq0K"
      },
      "source": [
        "Here we split our ‘X’ and ‘y’ dataset into ‘X_train’, ‘X_test’ and ‘y_train’, ‘y_test’. Here we take 25% data as test dataset and remaining as train dataset. We take the random_state value as 15 for our better prediction. We create regressor. And we fit the X_train and y_train into the regressor model."
      ]
    },
    {
      "cell_type": "code",
      "metadata": {
        "colab": {
          "base_uri": "https://localhost:8080/",
          "height": 295
        },
        "id": "-bI_rqBQPr2g",
        "outputId": "1b8e98d4-4de8-42b8-c76d-7ea6ba2df418"
      },
      "source": [
        "plt.scatter(X_test,y_test,color=\"red\") # Plot a graph with X_test vs y_test\n",
        "plt.plot(X_train,regressor.predict(X_train),color=\"yellow\",linewidth=3) # Regressior line showing\n",
        "plt.title('Regression(Test Set)')\n",
        "plt.xlabel('HP')\n",
        "plt.ylabel('MSRP')\n",
        "plt.show()"
      ],
      "execution_count": 11,
      "outputs": [
        {
          "output_type": "display_data",
          "data": {
            "image/png": "[encoded data removed]",
            "text/plain": [
              "<Figure size 432x288 with 1 Axes>"
            ]
          },
          "metadata": {
            "needs_background": "light"
          }
        }
      ]
    },
    {
      "cell_type": "markdown",
      "metadata": {
        "id": "fQtkSEIzP0S-"
      },
      "source": [
        "Here we plot a scatter plot graph between X_test and y_test datasets and we draw a regression line."
      ]
    },
    {
      "cell_type": "code",
      "metadata": {
        "colab": {
          "base_uri": "https://localhost:8080/",
          "height": 295
        },
        "id": "-7NENUUhP1UW",
        "outputId": "effec69a-67e2-4a33-d57f-4fdd6797ff44"
      },
      "source": [
        "plt.scatter(X_train,y_train,color=\"green\")  # Plot a graph with X_train vs y_train\n",
        "plt.plot(X_train,regressor.predict(X_train),color=\"black\",linewidth=4) # Regressior line showing\n",
        "plt.title('Regression(training Set)')\n",
        "plt.xlabel('HP')\n",
        "plt.ylabel('MSRP')\n",
        "plt.show()"
      ],
      "execution_count": 12,
      "outputs": [
        {
          "output_type": "display_data",
          "data": {
            "image/png": "[encoded data removed]",
            "text/plain": [
              "<Figure size 432x288 with 1 Axes>"
            ]
          },
          "metadata": {
            "needs_background": "light"
          }
        }
      ]
    },
    {
      "cell_type": "markdown",
      "metadata": {
        "id": "Cl_FISOFP-e7"
      },
      "source": [
        "Here we plot the final X_train vs y_train scatterplot graph with a best-fit regression line. Here we can clearly understand the regression line."
      ]
    },
    {
      "cell_type": "code",
      "metadata": {
        "colab": {
          "base_uri": "https://localhost:8080/"
        },
        "id": "BATA1RiBQBGI",
        "outputId": "19e50e6a-d7c9-4f85-f121-678952319e6f"
      },
      "source": [
        "y_pred = regressor.predict(X_test)\n",
        "print('R2 score: %.2f' % r2_score(y_test,y_pred)) # Printing R2 Score\n",
        "print('Mean squared Error :',mean_squared_error(y_test,y_pred)) # Printing the mean error"
      ],
      "execution_count": 13,
      "outputs": [
        {
          "output_type": "stream",
          "name": "stdout",
          "text": [
            "R2 score: 0.73\n",
            "Mean squared Error : 55796476.51179164\n"
          ]
        }
      ]
    },
    {
      "cell_type": "markdown",
      "metadata": {
        "id": "bNDShqtzQocX"
      },
      "source": [
        "Here we create a function with the help of our trained regressor model. And we get our desired output."
      ]
    },
    {
      "cell_type": "code",
      "metadata": {
        "colab": {
          "base_uri": "https://localhost:8080/"
        },
        "id": "Na-eypRfQp0H",
        "outputId": "6fa29910-66e9-4586-c0c0-c1f7ea037bd0"
      },
      "source": [
        "def car_price(hp): # A function to predict the price according to Horsepower\n",
        "    result = regressor.predict(np.array(hp).reshape(1, -1))\n",
        "    return(result[0,0])\n",
        "\n",
        "car_hp = int(input('Enter Volkswagen cars Horse Power : '))\n",
        "print('This Volkswagen Prce will be : ',int(car_price(car_hp))*69,'₹')"
      ],
      "execution_count": 14,
      "outputs": [
        {
          "output_type": "stream",
          "name": "stdout",
          "text": [
            "Enter Volkswagen cars Horse Power : 245\n",
            "This Volkswagen Prce will be :  2542650 ₹\n"
          ]
        }
      ]
    }
  ]
}